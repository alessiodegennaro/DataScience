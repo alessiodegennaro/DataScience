{
 "cells": [
  {
   "cell_type": "markdown",
   "metadata": {
    "collapsed": true
   },
   "source": [
    "<h1>My Jupyter Notebook on IBM Watson Studio</h1>"
   ]
  },
  {
   "cell_type": "markdown",
   "metadata": {},
   "source": [
    "<b>Alessio de Gennaro</b>\n"
   ]
  },
  {
   "cell_type": "markdown",
   "metadata": {},
   "source": [
    "<p><em>I'm intersting to data science because I think that this role is usefull in helping companies to improve their business, or to predict and to prevent serious diseases whit ML and Deep Learning, and help them </em></p>"
   ]
  },
  {
   "cell_type": "markdown",
   "metadata": {},
   "source": [
    "<h3>In the next cell I'll create an series of 100 random number using the numpy library and then I'll represent the data in an histogram</h3>"
   ]
  },
  {
   "cell_type": "code",
   "execution_count": 10,
   "metadata": {},
   "outputs": [
    {
     "data": {
      "text/plain": [
       "<function matplotlib.pyplot.show(close=None, block=None)>"
      ]
     },
     "execution_count": 10,
     "metadata": {},
     "output_type": "execute_result"
    },
    {
     "data": {
      "image/png": "[encoded data removed]",
      "text/plain": [
       "<Figure size 640x480 with 1 Axes>"
      ]
     },
     "metadata": {},
     "output_type": "display_data"
    }
   ],
   "source": [
    "import numpy as np\n",
    "import matplotlib.pyplot as plt\n",
    "\n",
    "x=np.random.randint(100, size=(100))\n",
    "plt.hist(x=x)\n",
    "plt.xlabel('Random Value')\n",
    "plt.ylabel('Frequency')\n",
    "plt.title('Histogram')\n",
    "plt.show"
   ]
  },
  {
   "cell_type": "markdown",
   "metadata": {},
   "source": [
    "<ul>Example of unordered List\n",
    "  <li>My</li>\n",
    "  <li>Final</li>\n",
    "  <li>Project</li>\n",
    "</ul>\n",
    "\n",
    "<ol>Example of number list\n",
    "  <li>My</li>\n",
    "  <li>Final</li>\n",
    "  <li>Project</li>\n",
    "</ol>\n",
    "\n",
    "<table>\n",
    "  <tr>\n",
    "    <th>Date</th>\n",
    "    <th>Country</th>\n",
    "    <th>Price</th>\n",
    "  </tr>\n",
    "  <tr>\n",
    "    <td>20-10-1997</td>\n",
    "    <td>Italy</td>\n",
    "    <td>200</td>\n",
    "  </tr>\n",
    "  <tr>\n",
    "    <td>31-06-1987</td>\n",
    "    <td>Mexico</td>\n",
    "    <td>100.000</td>\n",
    "  </tr>\n",
    "</table>"
   ]
  },
  {
   "cell_type": "code",
   "execution_count": null,
   "metadata": {},
   "outputs": [],
   "source": []
  }
 ],
 "metadata": {
  "kernelspec": {
   "display_name": "Python 3.10",
   "language": "python",
   "name": "python3"
  },
  "language_info": {
   "codemirror_mode": {
    "name": "ipython",
    "version": 3
   },
   "file_extension": ".py",
   "mimetype": "text/x-python",
   "name": "python",
   "nbconvert_exporter": "python",
   "pygments_lexer": "ipython3",
   "version": "3.10.6"
  }
 },
 "nbformat": 4,
 "nbformat_minor": 1
}
